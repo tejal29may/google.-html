{
  "nbformat": 4,
  "nbformat_minor": 0,
  "metadata": {
    "colab": {
      "name": "Untitled6.ipynb",
      "provenance": [],
      "authorship_tag": "ABX9TyM/s7LdBxNgk7qxQ0qk5/sf",
      "include_colab_link": true
    },
    "kernelspec": {
      "name": "python3",
      "display_name": "Python 3"
    },
    "language_info": {
      "name": "python"
    }
  },
  "cells": [
    {
      "cell_type": "markdown",
      "metadata": {
        "id": "view-in-github",
        "colab_type": "text"
      },
      "source": [
        "<a href=\"https://colab.research.google.com/github/tejal29may/google.-html/blob/main/Untitled6.ipynb\" target=\"_parent\"><img src=\"https://colab.research.google.com/assets/colab-badge.svg\" alt=\"Open In Colab\"/></a>"
      ]
    },
    {
      "cell_type": "markdown",
      "metadata": {
        "id": "1_T3pNf0MkyF"
      },
      "source": [
        "# **The spark Foundation**"
      ]
    },
    {
      "cell_type": "markdown",
      "metadata": {
        "id": "lZf7cmI_Nq-e"
      },
      "source": [
        ""
      ]
    },
    {
      "cell_type": "markdown",
      "metadata": {
        "id": "v02yeVc4M7DP"
      },
      "source": [
        "## Graduate Rotational Internship Program(GRIP)"
      ]
    },
    {
      "cell_type": "markdown",
      "metadata": {
        "id": "OTItoLhjNC83"
      },
      "source": [
        ""
      ]
    },
    {
      "cell_type": "markdown",
      "metadata": {
        "id": "dGHz7-UPNMw8"
      },
      "source": [
        "## Data Science And Bussiness Analytics"
      ]
    },
    {
      "cell_type": "markdown",
      "metadata": {
        "id": "teZeY351NTdA"
      },
      "source": [
        "Name Of Student : Tejal Sudhakarrao Mohod"
      ]
    },
    {
      "cell_type": "markdown",
      "metadata": {
        "id": "ySYlJXjzNbZS"
      },
      "source": [
        "Branch : Computer Science And Engineering"
      ]
    },
    {
      "cell_type": "markdown",
      "metadata": {
        "id": "gMjZXPjQOB69"
      },
      "source": [
        "Task name: Prediction using Supervised Machine Learning"
      ]
    },
    {
      "cell_type": "markdown",
      "metadata": {
        "id": "Iz-dv2aHNjBi"
      },
      "source": [
        "**About The Task:**\n",
        "                 *  Predict the \n",
        "                 *   List item\n",
        "\n",
        "\n",
        "---\n",
        "\n"
      ]
    }
  ]
}